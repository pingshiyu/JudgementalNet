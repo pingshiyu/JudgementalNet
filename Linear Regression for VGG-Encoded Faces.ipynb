{
 "cells": [
  {
   "cell_type": "markdown",
   "metadata": {},
   "source": [
    "<b><font size=\"+3\">Training a machine learning model to judge you and I shallowly based on looks</font></b>\n",
    "\n",
    "This notebook will document the analysis and the training of a machine learning model on a human faces dataset that I fetched from Reddit.\n",
    "\n",
    "The model will aim to decide, amongst other things, the attractiveness of the subject displayed in an image. /r/rateme has just the right data for this, with the subject's age, gender and most importantly their 'attractiveness', as judged by real people documented in each thread.\n",
    "\n",
    "<b><font size=\"+2\">Setting up</font></b>"
   ]
  },
  {
   "cell_type": "code",
   "execution_count": 107,
   "metadata": {
    "collapsed": true
   },
   "outputs": [],
   "source": [
    "# importing the relevant libraries\n",
    "# visualisation\n",
    "import matplotlib.pyplot as plt\n",
    "%matplotlib inline\n",
    "\n",
    "# models and data processing\n",
    "import sklearn.linear_model as models\n",
    "import sklearn.neural_network as nn\n",
    "from sklearn.model_selection import train_test_split\n",
    "from sklearn.preprocessing import StandardScaler\n",
    "from sklearn.pipeline import make_pipeline\n",
    "\n",
    "# reading CSV \n",
    "import numpy as np\n",
    "from pandas import read_csv\n",
    "from pandas import DataFrame\n",
    "# we get some errors when plotting the graph, supressing these for now\n",
    "_ = np.seterr(invalid='ignore')"
   ]
  },
  {
   "cell_type": "markdown",
   "metadata": {},
   "source": [
    "At this point, we have already:\n",
    "- gathered the data (rating, age + picture) from reddit, /r/rateme subreddit\n",
    "    - the data is gathered using regular expressions on the comments section and the title.\n",
    "    - for the rating, we simply took an average of all the ratings in the comments\n",
    "    - the age of the subject is present for most posts in the post title\n",
    "- encoded the faces using VGG-face to obtain a feature vector for each face\n",
    "- formed .csv files, for male and female faces, where each row corresponds to a datapoint. \n",
    "    - The first 4096 entries are the features from VGG\n",
    "    - the second to last column are the face's rating\n",
    "    - the last column is the face's age"
   ]
  },
  {
   "cell_type": "code",
   "execution_count": 108,
   "metadata": {
    "collapsed": true
   },
   "outputs": [],
   "source": [
    "# location of data stored\n",
    "data_root = './data/vgg_encoded/'\n",
    "male_csv = data_root + 'male.csv'\n",
    "female_csv = data_root + 'female.csv'"
   ]
  },
  {
   "cell_type": "markdown",
   "metadata": {},
   "source": [
    "Interestingly, there are much more males than females who wanted to get their faces rated on /r/rateme! For this reason, we will first try out the female part of our dataset (we have ~12,500 female entries, and ~37,500 male entries)\n",
    "\n",
    "This could potentially be due to a combination of:\n",
    "- males not receiving as much feedback on their appearance during their day-to-day life compared to females\n",
    "- there simply being more males than females on reddit, or on /r/rateme\n",
    "\n",
    "So now all that's left is to train the regressor on the face's ratings!"
   ]
  },
  {
   "cell_type": "code",
   "execution_count": 109,
   "metadata": {
    "collapsed": true
   },
   "outputs": [],
   "source": [
    "# reading in the CSV file as an numpy array\n",
    "# the 1: is due to my stupidity - I've accidentally also saved the index into the first column of the .csv\n",
    "# and finally dropna() is to deal with the NaN's we have in the dataset\n",
    "female_data = read_csv(female_csv, nrows=5000).dropna().values[:, 1:]\n",
    "\n",
    "X_female, targets_female = female_data[:, :-2], female_data[:, -2:]\n",
    "rating_female, age_female = targets_female[:, 0], targets_female[:, 1]\n",
    "\n",
    "# perform a train/test/validation split. 80% used for training, 20% for testing and 10% for validating\n",
    "X_female_train, X_female_test, targets_female_train, targets_female_test = train_test_split(\n",
    "    X_female, targets_female, test_size=0.2)\n",
    "\n",
    "rating_female_train, rating_female_test = targets_female_train[:, 0], targets_female_test[:, 0]\n",
    "age_female_train, age_female_test = targets_female_train[:, 1], targets_female_test[:, 1]"
   ]
  },
  {
   "cell_type": "markdown",
   "metadata": {},
   "source": [
    "<b><font size=\"+2\">Visualisation</font></b>\n",
    "\n",
    "Before we start, let's take a look at what our data looks like."
   ]
  },
  {
   "cell_type": "markdown",
   "metadata": {},
   "source": [
    "Let's first note down some summary statistics:"
   ]
  },
  {
   "cell_type": "code",
   "execution_count": 110,
   "metadata": {},
   "outputs": [
    {
     "data": {
      "text/html": [
       "<div>\n",
       "<style scoped>\n",
       "    .dataframe tbody tr th:only-of-type {\n",
       "        vertical-align: middle;\n",
       "    }\n",
       "\n",
       "    .dataframe tbody tr th {\n",
       "        vertical-align: top;\n",
       "    }\n",
       "\n",
       "    .dataframe thead th {\n",
       "        text-align: right;\n",
       "    }\n",
       "</style>\n",
       "<table border=\"1\" class=\"dataframe\">\n",
       "  <thead>\n",
       "    <tr style=\"text-align: right;\">\n",
       "      <th></th>\n",
       "      <th>age</th>\n",
       "      <th>rating</th>\n",
       "    </tr>\n",
       "  </thead>\n",
       "  <tbody>\n",
       "    <tr>\n",
       "      <th>count</th>\n",
       "      <td>4947.000000</td>\n",
       "      <td>4947.000000</td>\n",
       "    </tr>\n",
       "    <tr>\n",
       "      <th>mean</th>\n",
       "      <td>21.150596</td>\n",
       "      <td>6.835679</td>\n",
       "    </tr>\n",
       "    <tr>\n",
       "      <th>std</th>\n",
       "      <td>3.850176</td>\n",
       "      <td>1.044844</td>\n",
       "    </tr>\n",
       "    <tr>\n",
       "      <th>min</th>\n",
       "      <td>1.000000</td>\n",
       "      <td>1.500000</td>\n",
       "    </tr>\n",
       "    <tr>\n",
       "      <th>25%</th>\n",
       "      <td>19.000000</td>\n",
       "      <td>6.342857</td>\n",
       "    </tr>\n",
       "    <tr>\n",
       "      <th>50%</th>\n",
       "      <td>20.000000</td>\n",
       "      <td>6.987500</td>\n",
       "    </tr>\n",
       "    <tr>\n",
       "      <th>75%</th>\n",
       "      <td>23.000000</td>\n",
       "      <td>7.533333</td>\n",
       "    </tr>\n",
       "    <tr>\n",
       "      <th>max</th>\n",
       "      <td>91.000000</td>\n",
       "      <td>10.000000</td>\n",
       "    </tr>\n",
       "  </tbody>\n",
       "</table>\n",
       "</div>"
      ],
      "text/plain": [
       "               age       rating\n",
       "count  4947.000000  4947.000000\n",
       "mean     21.150596     6.835679\n",
       "std       3.850176     1.044844\n",
       "min       1.000000     1.500000\n",
       "25%      19.000000     6.342857\n",
       "50%      20.000000     6.987500\n",
       "75%      23.000000     7.533333\n",
       "max      91.000000    10.000000"
      ]
     },
     "execution_count": 110,
     "metadata": {},
     "output_type": "execute_result"
    }
   ],
   "source": [
    "# summary statistics\n",
    "rating_age_female_data = {'rating': rating_female, 'age': age_female}\n",
    "rating_age_female_df = DataFrame(data=rating_age_female_data)\n",
    "rating_age_female_df.describe()"
   ]
  },
  {
   "cell_type": "code",
   "execution_count": 111,
   "metadata": {
    "scrolled": true
   },
   "outputs": [
    {
     "data": {
      "image/png": "[encoded data removed]",
      "text/plain": [
       "<matplotlib.figure.Figure at 0x7fa595d762e8>"
      ]
     },
     "metadata": {},
     "output_type": "display_data"
    },
    {
     "data": {
      "text/plain": [
       "<matplotlib.figure.Figure at 0x7fa598870240>"
      ]
     },
     "metadata": {},
     "output_type": "display_data"
    }
   ],
   "source": [
    "# histogram for ratings\n",
    "plt.subplot(121)\n",
    "plt.hist(rating_female[:1000], bins=100, range=(0,10))\n",
    "plt.title('Ratings distribution'); plt.xlabel('Rating'); plt.axis([0,10,0,60])\n",
    "plt.grid(True)\n",
    "\n",
    "# histogram for age\n",
    "plt.subplot(122)\n",
    "plt.hist(age_female[:1000], bins=60, range=(0,60))\n",
    "plt.title('Age distribution'); plt.xlabel('Age'); plt.axis([0,60,0,225])\n",
    "plt.grid(True)\n",
    "\n",
    "plt.show(); plt.clf()"
   ]
  },
  {
   "cell_type": "markdown",
   "metadata": {},
   "source": [
    "From these plots we can see that ratings distributions follows a normal / log normal distribution with a mean of around 7 (!), whilst the age distribution resembles quite closely a gamma distrubtion. \n",
    "\n",
    "(!): Perhaps guys just find all girls beautiful after all, or perhaps people are a little too kind on /r/rateme! As a result, should we normalise our output to a mean of 5, so that it resembles more closely the 'ideal' attractiveness scale? <font size=\"-2\">I think there is no need. As a man I fall in love with every other women I see on the streets, so an average of 7 is not surprising at all. ;)</font>"
   ]
  },
  {
   "cell_type": "markdown",
   "metadata": {},
   "source": [
    "Let's also take a look at the features:"
   ]
  },
  {
   "cell_type": "code",
   "execution_count": 117,
   "metadata": {},
   "outputs": [
    {
     "name": "stdout",
     "output_type": "stream",
     "text": [
      "              3605         3714         3217         1175         1776  \\\n",
      "count  4947.000000  4947.000000  4947.000000  4947.000000  4947.000000   \n",
      "mean    438.754806   376.107414    16.496911   378.893609    92.268153   \n",
      "std     987.374051   892.558408   198.595037   804.443528   500.831724   \n",
      "min       0.000000     0.000000     0.000000     0.000000     0.000000   \n",
      "25%       0.000000     0.000000     0.000000     0.000000     0.000000   \n",
      "50%       0.000000     0.000000     0.000000     0.000000     0.000000   \n",
      "75%     273.170593    54.423771     0.000000   261.565796     0.000000   \n",
      "max    6515.465332  7044.307129  4130.792480  4870.989258  6928.984863   \n",
      "\n",
      "               2543         2600         883          3799         1136  \n",
      "count   4947.000000  4947.000000  4947.000000  4947.000000  4947.000000  \n",
      "mean    1079.772845   286.453134    60.875654   214.482176   529.755912  \n",
      "std     1632.865988   783.609150   331.525520   676.276204  1243.445538  \n",
      "min        0.000000     0.000000     0.000000     0.000000     0.000000  \n",
      "25%        0.000000     0.000000     0.000000     0.000000     0.000000  \n",
      "50%        0.000000     0.000000     0.000000     0.000000     0.000000  \n",
      "75%     1767.650146     0.000000     0.000000     0.000000   159.968170  \n",
      "max    10144.343750  7803.242188  4648.257812  7800.756836  8458.985352  \n"
     ]
    }
   ],
   "source": [
    "# pick 10 sample features randomly, from the interval [0, 4095]\n",
    "sample_points = np.trunc(np.random.random_sample(10) * 4096).astype(int)\n",
    "feature_sample = X_female[:, sample_points]\n",
    "\n",
    "# and print out the statistics of the sampled features.\n",
    "print(DataFrame(data=feature_sample, columns=sample_points).describe())"
   ]
  },
  {
   "cell_type": "markdown",
   "metadata": {},
   "source": [
    "Looks like the features are quite sparse. In order to take a closer look we need to filter out the places where the feature is non-present. "
   ]
  },
  {
   "cell_type": "code",
   "execution_count": 115,
   "metadata": {},
   "outputs": [
    {
     "name": "stdout",
     "output_type": "stream",
     "text": [
      "                 0\n",
      "count    40.000000\n",
      "mean    868.157739\n",
      "std     591.781926\n",
      "min     131.401611\n",
      "25%     374.674622\n",
      "50%     723.051788\n",
      "75%    1332.239990\n",
      "max    2125.386719\n",
      "[  919.24511719   919.24511719   919.24511719   919.24511719   632.45251465\n",
      "   632.45251465   632.45251465   632.45251465   374.67462158   374.67462158\n",
      "   374.67462158   374.67462158   813.65106201   813.65106201   813.65106201\n",
      "   813.65106201  1478.72644043   322.27911377  1478.72644043   322.27911377\n",
      "  1478.72644043   322.27911377  1478.72644043   322.27911377   551.52020264\n",
      "   551.52020264   551.52020264   551.52020264  2125.38671875  2125.38671875\n",
      "  2125.38671875  2125.38671875   131.40161133   131.40161133   131.40161133\n",
      "   131.40161133  1332.23999023  1332.23999023  1332.23999023  1332.23999023]\n"
     ]
    }
   ],
   "source": [
    "# taking a closer look at the first of the sampled features\n",
    "feature_0 = feature_sample[:, 0]\n",
    "feature_0_nonzero = feature_0[feature_0 != 0]\n",
    "\n",
    "# and print out its descriptive statistics\n",
    "print(DataFrame(feature_0_nonzero).describe())"
   ]
  },
  {
   "cell_type": "markdown",
   "metadata": {},
   "source": [
    "Anyways, with all that being said, let's train our regressors for now and see what kind of results we get."
   ]
  },
  {
   "cell_type": "markdown",
   "metadata": {},
   "source": [
    "<b><font size=\"+2\">Preprocessing</font></b>\n",
    "\n",
    "Before we fit our model, we first standardise our features to help our model converge. To do this, we will make use of scikit learn's tools, which will standardise our features for us. We will also make use a pipeline so to streamline the work that goes on before our data goes through our model in the future (i.e. testing phase and beyond)\n",
    "\n",
    "Standardisation in fact becomes not-even-a-one-liner with sklearn, (thanks to the StandardScaler class). So let's move onto the next step, which is choosing a regression model.\n",
    "\n",
    "<b><font size=\"+2\">Regression</font></b>\n",
    "\n",
    "There are a few models which will potentially do the job. Models such as Linear Regression (we will use a variant such as Lasso), Bayesian Regression or a neural network could all potentially work. We will try to evaluate a few of these on our data.\n",
    "\n",
    "First up is Lasso regression. Scikit learn surprised me once again with automatic cross-validation. And luckily enough, Lasso has a corresponding CV class, LassoCV which will automatically do cross-validation for us."
   ]
  },
  {
   "cell_type": "code",
   "execution_count": 153,
   "metadata": {},
   "outputs": [
    {
     "name": "stderr",
     "output_type": "stream",
     "text": [
      "/home/pingshiyu/.local/lib/python3.6/site-packages/sklearn/linear_model/coordinate_descent.py:491: ConvergenceWarning: Objective did not converge. You might want to increase the number of iterations. Fitting data with very small alpha may cause precision problems.\n",
      "  ConvergenceWarning)\n",
      "/home/pingshiyu/.local/lib/python3.6/site-packages/sklearn/linear_model/coordinate_descent.py:477: UserWarning: Coordinate descent with no regularization may lead to unexpected results and is discouraged.\n",
      "  positive)\n"
     ]
    },
    {
     "name": "stdout",
     "output_type": "stream",
     "text": [
      "alpha chosen: 0.0616161616162\n"
     ]
    }
   ],
   "source": [
    "# Lasso model with standardisation.\n",
    "# ``alphas`` is for cross-validation: the range of regularization penalty we want to try\n",
    "alphas = np.linspace(0, 1e-1, num=100)\n",
    "lasso = make_pipeline(StandardScaler(), models.LassoCV(alphas=alphas, n_jobs=-1))\n",
    "# fit lasso regression\n",
    "lasso.fit(X_female_train, rating_female_train)\n",
    "print('alpha chosen:', lasso.steps[1][1].alpha_)"
   ]
  },
  {
   "cell_type": "markdown",
   "metadata": {},
   "source": [
    "This resulted in choosing alpha=0.05 as our penalty. Let's take a look at the results given by this value. We define an evaluation function whilst we're at it so that we can evaluate other models quickly also."
   ]
  },
  {
   "cell_type": "code",
   "execution_count": 149,
   "metadata": {
    "collapsed": true
   },
   "outputs": [],
   "source": [
    "def mse(y, y_):\n",
    "    '''\n",
    "    Returns the mean squared error between ``y`` and ``y_``\n",
    "    y, y_: numpy arrays of the same dimension\n",
    "    '''\n",
    "    return np.mean((y - y_)**2)\n",
    "\n",
    "def evaluate_model(model, Xval=X_female_validate, yval=rating_female_validate):\n",
    "    '''\n",
    "    Given a model, output evaluation information about the model's performance on the validation set.\n",
    "    '''\n",
    "    # evaluate the model\n",
    "    val_prediction = model.predict(Xval)\n",
    "    print('MSE on test set:', mse(val_prediction, yval))\n",
    "    print('R^2 score:', model.score(Xval, yval))\n",
    "    print('predictions statistics:')\n",
    "    print(DataFrame({'prediction': model.predict(Xval)}).describe())"
   ]
  },
  {
   "cell_type": "markdown",
   "metadata": {},
   "source": [
    "We also visualise with a scatterplot, where we can see how the prediction relates to the actual values. If the model were perfect, then that means all of the predictions and the actual values are equal - thus all of the points of the plot will be along the line $y = x$. The further the plot deviates from that line, the less 'similar' our predictor is to the correct values."
   ]
  },
  {
   "cell_type": "code",
   "execution_count": 168,
   "metadata": {
    "collapsed": true
   },
   "outputs": [],
   "source": [
    "def model_scatterplot(model, Xval=X_female_validate, yval=rating_female_validate):\n",
    "    '''\n",
    "    Visualize the model with a scatter-plot. This will show us how 'correlated' the model predictions and the actual \n",
    "    test set are. \n",
    "    \n",
    "    A perfectly correlated dataset should look like the graph y = x, where it is just a straight diagonal line.\n",
    "    '''\n",
    "    # plotting the graph of the predictions\n",
    "    pred = model.predict(Xval)\n",
    "    plt.plot(yval, model.predict(Xval), 'ro', markersize=0.5)\n",
    "    plt.xlabel('actual'); plt.ylabel('predicted');\n",
    "    plt.xlim((0,10)); plt.ylim((0,10))\n",
    "    plt.show(); plt.clf()"
   ]
  },
  {
   "cell_type": "code",
   "execution_count": 165,
   "metadata": {},
   "outputs": [
    {
     "name": "stdout",
     "output_type": "stream",
     "text": [
      "MSE on test set: 1.05185258321\n",
      "R^2 score: 0.00644534466636\n",
      "predictions statistics:\n",
      "       prediction\n",
      "count  495.000000\n",
      "mean     6.844835\n",
      "std      0.031591\n",
      "min      6.749209\n",
      "25%      6.835365\n",
      "50%      6.843956\n",
      "75%      6.853484\n",
      "max      6.938419\n"
     ]
    }
   ],
   "source": [
    "# print the results\n",
    "evaluate_model(lasso)"
   ]
  },
  {
   "cell_type": "markdown",
   "metadata": {},
   "source": [
    "Unfortunately, this value of alpha resulted in an R^2 score very close to zero. Implying the model is severely underfitting - in fact it is just predicting the average of the dataset for all points!\n",
    "\n",
    "The model is in very bad health, and some treatment is needed immediately. "
   ]
  },
  {
   "cell_type": "markdown",
   "metadata": {},
   "source": [
    "<font size=\"+1\">Diagnosing the illness of linear regression</font>\n",
    "\n",
    "First thing we need to find out is how the model varies according to `alpha`, our regularization parameter. The value of `alpha` corresponds to the 'complexity' of the model, the lower the value of `alpha`, the more 'complex' it is. A more complex model is more likely to overfit, and a less complex model is more likely to underfit. \n",
    "\n",
    "Thus, when\n",
    "- `alpha` is small: $\\implies$ the model is more complex $\\implies$ the model may overfit $\\implies$ lower training error; higher testing error\n",
    "- `alpha` is big: $\\implies$ the model is less complex $\\implies$ the model may underfit $\\implies$ higher training error; similarly high validation error\n",
    "\n",
    "So, if we plot the training and testing errors on a graph, against the value of `alpha` we choose for our model, we may expect for the training error curve to:\n",
    "- be high for small `alpha`, and dropping as `alpha` gets larger\n",
    "\n",
    "in the meanwhile, the validation error curve may:\n",
    "- be high for small `alpha`, and also high for large `alpha`. \n",
    "\n",
    "So between those two curves, there should exist a sweet spot for a choice of `alpha` where the MSE for the validation set is not too high, and for the training set not too close to zero. This `alpha` should be close to where the model is neither overfitting nor underfitting.\n",
    "\n",
    "Let's plot the graph and see what it looks like in theory."
   ]
  },
  {
   "cell_type": "code",
   "execution_count": 11,
   "metadata": {
    "collapsed": true
   },
   "outputs": [],
   "source": [
    "def plot_mse_graph(Model, X, y, Xval, yval, alpha_range=(0,0.1), points=100):\n",
    "    '''\n",
    "    Plots the graph of alpha against the MSE of the ``Model`` on the training and validation sets.\n",
    "    '''\n",
    "    training_MSE, validation_MSE = [], []\n",
    "    # loop over the range of alphas\n",
    "    alphas = np.linspace(*alpha_range, num=points)\n",
    "    for alpha in alphas:\n",
    "        # create and fit the model on training set\n",
    "        model = make_pipeline(StandardScaler(), Model(alpha))\n",
    "        model.fit(X, y)\n",
    "        \n",
    "        # evaluate the MSE on training and validation set\n",
    "        training_MSE.append(mse(y, model.predict(X)))\n",
    "        validation_MSE.append(mse(yval, model.predict(Xval)))\n",
    "        \n",
    "    # plot the data\n",
    "    training_line = plt.plot(alphas, training_MSE, label='training')\n",
    "    validation_line = plt.plot(alphas, validation_MSE, label='validation')\n",
    "    plt.xlabel('alpha'); plt.ylabel('MSE'); plt.legend()\n",
    "    plt.grid(True)\n",
    "    plt.show(); plt.clf()"
   ]
  },
  {
   "cell_type": "code",
   "execution_count": 12,
   "metadata": {},
   "outputs": [
    {
     "name": "stderr",
     "output_type": "stream",
     "text": [
      "/home/pingshiyu/.local/lib/python3.6/site-packages/sklearn/pipeline.py:250: UserWarning: With alpha=0, this algorithm does not converge well. You are advised to use the LinearRegression estimator\n",
      "  self._final_estimator.fit(Xt, y, **fit_params)\n",
      "/home/pingshiyu/.local/lib/python3.6/site-packages/sklearn/linear_model/coordinate_descent.py:477: UserWarning: Coordinate descent with no regularization may lead to unexpected results and is discouraged.\n",
      "  positive)\n",
      "/home/pingshiyu/.local/lib/python3.6/site-packages/sklearn/linear_model/coordinate_descent.py:491: ConvergenceWarning: Objective did not converge. You might want to increase the number of iterations. Fitting data with very small alpha may cause precision problems.\n",
      "  ConvergenceWarning)\n"
     ]
    },
    {
     "data": {
      "image/png": "[encoded data removed]",
      "text/plain": [
       "<matplotlib.figure.Figure at 0x7fa599a5d2e8>"
      ]
     },
     "metadata": {},
     "output_type": "display_data"
    },
    {
     "data": {
      "text/plain": [
       "<matplotlib.figure.Figure at 0x7fa598d6b550>"
      ]
     },
     "metadata": {},
     "output_type": "display_data"
    }
   ],
   "source": [
    "# plotting the complexity vs. MSE graph\n",
    "plot_mse_graph(models.Lasso, \n",
    "               X_female_train, rating_female_train, \n",
    "               X_female_validate, rating_female_validate,\n",
    "               points=30)"
   ]
  },
  {
   "cell_type": "markdown",
   "metadata": {},
   "source": [
    "Unfortunately, from this graph, it can be seen that there is not really a 'sweet spot' where the model is neither underfitting nor overfitting. In fact, the validation error never dips below ~1.1, meaning that the model might as well be guessing the mean for everything at that point, seeing as the standard deviation is only ~1.04."
   ]
  },
  {
   "cell_type": "markdown",
   "metadata": {},
   "source": [
    "<b> Diagnosis: A linear model is not complex enough to model our attractiveness function. </b>"
   ]
  },
  {
   "cell_type": "markdown",
   "metadata": {},
   "source": [
    "<b><font size=\"+2\">Bayesian Regression</font></b>\n",
    "\n",
    "Next we will give Bayesian Regression a shot. This model is preset in the `sklearn` library. We will quickly give it a run to see if the results are promising."
   ]
  },
  {
   "cell_type": "code",
   "execution_count": 170,
   "metadata": {},
   "outputs": [
    {
     "data": {
      "text/plain": [
       "Pipeline(memory=None,\n",
       "     steps=[('standardscaler', StandardScaler(copy=True, with_mean=True, with_std=True)), ('bayesianridge', BayesianRidge(alpha_1=1e-06, alpha_2=1e-06, compute_score=False, copy_X=True,\n",
       "       fit_intercept=True, lambda_1=1e-06, lambda_2=1e-06, n_iter=300,\n",
       "       normalize=False, tol=0.001, verbose=False))])"
      ]
     },
     "execution_count": 170,
     "metadata": {},
     "output_type": "execute_result"
    }
   ],
   "source": [
    "# initialize and fit the bayesian (ridge) regression model\n",
    "bayes = make_pipeline(StandardScaler(), models.BayesianRidge())\n",
    "bayes.fit(X_female_train, rating_female_train)"
   ]
  },
  {
   "cell_type": "code",
   "execution_count": 171,
   "metadata": {},
   "outputs": [
    {
     "name": "stdout",
     "output_type": "stream",
     "text": [
      "MSE on test set: 1.00154088627\n",
      "R^2 score: 0.053968563711\n",
      "predictions statistics:\n",
      "       prediction\n",
      "count  495.000000\n",
      "mean     6.839415\n",
      "std      0.099913\n",
      "min      6.560430\n",
      "25%      6.770886\n",
      "50%      6.852413\n",
      "75%      6.900741\n",
      "max      7.207414\n"
     ]
    }
   ],
   "source": [
    "# evaluate the model\n",
    "evaluate_model(bayes)"
   ]
  },
  {
   "cell_type": "code",
   "execution_count": 172,
   "metadata": {},
   "outputs": [
    {
     "data": {
      "image/png": "[encoded data removed]",
      "text/plain": [
       "<matplotlib.figure.Figure at 0x7fa598d5c320>"
      ]
     },
     "metadata": {},
     "output_type": "display_data"
    },
    {
     "data": {
      "text/plain": [
       "<matplotlib.figure.Figure at 0x7fa598d5c780>"
      ]
     },
     "metadata": {},
     "output_type": "display_data"
    }
   ],
   "source": [
    "# seeing the distribution of the weights\n",
    "bayes_model = bayes.steps[1][1]\n",
    "plt.hist(bayes_model.coef_, bins=100)\n",
    "plt.show(); plt.clf()"
   ]
  },
  {
   "cell_type": "markdown",
   "metadata": {},
   "source": [
    "Unfortunately, Bayesian Ridge Regression, still being a linear model, does not fare much better than other forms of linear regression. We therefore now move on to some non-linear models in search for a slither of hope."
   ]
  },
  {
   "cell_type": "markdown",
   "metadata": {},
   "source": [
    "<b><font size=\"+2\">Neural Network Model</font></b>\n",
    "\n",
    "As the model seemed a little too complicated for a linear model, it would seem natural to try something more complicated, for example a neural network. Scikit-learn once again has a preset neural network model in their library, and we will be using that interface here also.\n",
    "\n",
    "We will be using an adaptive learning rate, where it begins at a certain value, i.e. $10^{-2}$ and is decreased if the loss is not improved for two consecutive epochs."
   ]
  },
  {
   "cell_type": "code",
   "execution_count": 18,
   "metadata": {},
   "outputs": [
    {
     "name": "stdout",
     "output_type": "stream",
     "text": [
      "Iteration 1, loss = 22.73228996\n",
      "Iteration 2, loss = 8.06588417\n",
      "Iteration 3, loss = 2.22711841\n",
      "Iteration 4, loss = 0.72231897\n",
      "Iteration 5, loss = 0.52016163\n",
      "Iteration 6, loss = 0.47809452\n",
      "Iteration 7, loss = 0.45932005\n",
      "Iteration 8, loss = 0.44797987\n",
      "Iteration 9, loss = 0.44614957\n",
      "Iteration 10, loss = 0.44211884\n",
      "Iteration 11, loss = 0.44558094\n",
      "Iteration 12, loss = 0.44496895\n",
      "Iteration 13, loss = 0.44964050\n",
      "Training loss did not improve more than tol=0.000100 for two consecutive epochs. Stopping.\n"
     ]
    },
    {
     "data": {
      "text/plain": [
       "Pipeline(memory=None,\n",
       "     steps=[('standardscaler', StandardScaler(copy=True, with_mean=True, with_std=True)), ('mlpregressor', MLPRegressor(activation='relu', alpha=0.0001, batch_size='auto', beta_1=0.9,\n",
       "       beta_2=0.999, early_stopping=False, epsilon=1e-08,\n",
       "       hidden_layer_sizes=(500,), learning_rate='adaptive',\n",
       "   ...e=True, solver='adam', tol=0.0001, validation_fraction=0.1,\n",
       "       verbose=True, warm_start=False))])"
      ]
     },
     "execution_count": 18,
     "metadata": {},
     "output_type": "execute_result"
    }
   ],
   "source": [
    "# defining and fitting the network\n",
    "network = make_pipeline(StandardScaler(), \n",
    "                        nn.MLPRegressor(hidden_layer_sizes=(100,), solver='adam',\n",
    "                                        learning_rate='adaptive', learning_rate_init=1e-4,\n",
    "                                        verbose=True))\n",
    "network.fit(X_female_train, rating_female_train)"
   ]
  },
  {
   "cell_type": "code",
   "execution_count": 147,
   "metadata": {
    "scrolled": true
   },
   "outputs": [
    {
     "name": "stdout",
     "output_type": "stream",
     "text": [
      "MSE on test set: 6.75482511919\n",
      "R^2 score: -5.38044536873\n",
      "predictions statistics:\n",
      "       prediction\n",
      "count  495.000000\n",
      "mean     5.019721\n",
      "std      1.471048\n",
      "min      0.342644\n",
      "25%      4.330471\n",
      "50%      5.199806\n",
      "75%      5.986735\n",
      "max      8.070972\n"
     ]
    },
    {
     "data": {
      "image/png": "[encoded data removed]",
      "text/plain": [
       "<matplotlib.figure.Figure at 0x7fa59989a320>"
      ]
     },
     "metadata": {},
     "output_type": "display_data"
    },
    {
     "data": {
      "text/plain": [
       "<matplotlib.figure.Figure at 0x7fa59985cc88>"
      ]
     },
     "metadata": {},
     "output_type": "display_data"
    }
   ],
   "source": [
    "# evaluate the model\n",
    "evaluate_model(network)\n",
    "model_scatterplot(network)"
   ]
  },
  {
   "cell_type": "markdown",
   "metadata": {},
   "source": [
    "<b><font size=\"+2\">Boosting Models</font></b>\n",
    "\n",
    "We will also try a range of boosting models to see how it performs."
   ]
  },
  {
   "cell_type": "markdown",
   "metadata": {},
   "source": [
    "<font size=\"+1\">Gradient Boosting</font>"
   ]
  },
  {
   "cell_type": "code",
   "execution_count": 130,
   "metadata": {},
   "outputs": [
    {
     "data": {
      "text/plain": [
       "GradientBoostingRegressor(alpha=0.9, criterion='friedman_mse', init=None,\n",
       "             learning_rate=0.1, loss='ls', max_depth=3, max_features=None,\n",
       "             max_leaf_nodes=None, min_impurity_decrease=0.0,\n",
       "             min_impurity_split=None, min_samples_leaf=1,\n",
       "             min_samples_split=2, min_weight_fraction_leaf=0.0,\n",
       "             n_estimators=100, presort='auto', random_state=None,\n",
       "             subsample=1.0, verbose=0, warm_start=False)"
      ]
     },
     "execution_count": 130,
     "metadata": {},
     "output_type": "execute_result"
    }
   ],
   "source": [
    "import sklearn.ensemble as ensemble\n",
    "\n",
    "# use the gradient-boosting model\n",
    "gradient_boost = ensemble.GradientBoostingRegressor()\n",
    "gradient_boost.fit(X_female_train, rating_female_train)"
   ]
  },
  {
   "cell_type": "code",
   "execution_count": 148,
   "metadata": {},
   "outputs": [
    {
     "name": "stdout",
     "output_type": "stream",
     "text": [
      "MSE on test set: 0.916290865989\n",
      "R^2 score: 0.13449368279\n",
      "predictions statistics:\n",
      "       prediction\n",
      "count  495.000000\n",
      "mean     6.833395\n",
      "std      0.289777\n",
      "min      4.763406\n",
      "25%      6.711130\n",
      "50%      6.876876\n",
      "75%      6.975204\n",
      "max      7.491669\n"
     ]
    },
    {
     "data": {
      "image/png": "[encoded data removed]",
      "text/plain": [
       "<matplotlib.figure.Figure at 0x7fa598dacdd8>"
      ]
     },
     "metadata": {},
     "output_type": "display_data"
    },
    {
     "data": {
      "text/plain": [
       "<matplotlib.figure.Figure at 0x7fa595e22860>"
      ]
     },
     "metadata": {},
     "output_type": "display_data"
    }
   ],
   "source": [
    "# evaluate the model\n",
    "evaluate_model(gradient_boost)\n",
    "model_scatterplot(gradient_boost)"
   ]
  },
  {
   "cell_type": "markdown",
   "metadata": {},
   "source": [
    "<font size=\"+1\">AdaBoost</font>"
   ]
  },
  {
   "cell_type": "code",
   "execution_count": 163,
   "metadata": {},
   "outputs": [
    {
     "data": {
      "text/plain": [
       "AdaBoostRegressor(base_estimator=None, learning_rate=1.0, loss='exponential',\n",
       "         n_estimators=50, random_state=None)"
      ]
     },
     "execution_count": 163,
     "metadata": {},
     "output_type": "execute_result"
    }
   ],
   "source": [
    "# use the model\n",
    "adaboost = ensemble.AdaBoostRegressor(loss='exponential')\n",
    "adaboost.fit(X_female_train, rating_female_train)"
   ]
  },
  {
   "cell_type": "code",
   "execution_count": 164,
   "metadata": {},
   "outputs": [
    {
     "name": "stdout",
     "output_type": "stream",
     "text": [
      "MSE on test set: 1.18138645753\n",
      "R^2 score: -0.115909238002\n",
      "predictions statistics:\n",
      "       prediction\n",
      "count  495.000000\n",
      "mean     6.441180\n",
      "std      0.173907\n",
      "min      5.811374\n",
      "25%      6.387219\n",
      "50%      6.431135\n",
      "75%      6.518637\n",
      "max      6.811116\n"
     ]
    },
    {
     "data": {
      "image/png": "[encoded data removed]",
      "text/plain": [
       "<matplotlib.figure.Figure at 0x7fa5937d3a20>"
      ]
     },
     "metadata": {},
     "output_type": "display_data"
    },
    {
     "data": {
      "text/plain": [
       "<matplotlib.figure.Figure at 0x7fa5997e5eb8>"
      ]
     },
     "metadata": {},
     "output_type": "display_data"
    }
   ],
   "source": [
    "# evaluate the model\n",
    "evaluate_model(adaboost)\n",
    "model_scatterplot(adaboost)"
   ]
  },
  {
   "cell_type": "markdown",
   "metadata": {},
   "source": [
    "<b><font size=\"+2\">Random Forest Regressor</font></b>"
   ]
  },
  {
   "cell_type": "code",
   "execution_count": 157,
   "metadata": {},
   "outputs": [
    {
     "data": {
      "text/plain": [
       "RandomForestRegressor(bootstrap=True, criterion='mse', max_depth=None,\n",
       "           max_features='auto', max_leaf_nodes=None,\n",
       "           min_impurity_decrease=0.0, min_impurity_split=None,\n",
       "           min_samples_leaf=1, min_samples_split=2,\n",
       "           min_weight_fraction_leaf=0.0, n_estimators=10, n_jobs=1,\n",
       "           oob_score=False, random_state=None, verbose=0, warm_start=False)"
      ]
     },
     "execution_count": 157,
     "metadata": {},
     "output_type": "execute_result"
    }
   ],
   "source": [
    "# use the RF model\n",
    "random_forest = ensemble.RandomForestRegressor()\n",
    "random_forest.fit(X_female_train, rating_female_train)"
   ]
  },
  {
   "cell_type": "code",
   "execution_count": 158,
   "metadata": {},
   "outputs": [
    {
     "name": "stdout",
     "output_type": "stream",
     "text": [
      "MSE on test set: 0.926168679691\n",
      "R^2 score: 0.125163337508\n",
      "predictions statistics:\n",
      "       prediction\n",
      "count  495.000000\n",
      "mean     6.841979\n",
      "std      0.600853\n",
      "min      4.240165\n",
      "25%      6.558279\n",
      "50%      6.928008\n",
      "75%      7.245124\n",
      "max      8.010604\n"
     ]
    },
    {
     "data": {
      "image/png": "[encoded data removed]",
      "text/plain": [
       "<matplotlib.figure.Figure at 0x7fa5997aa320>"
      ]
     },
     "metadata": {},
     "output_type": "display_data"
    },
    {
     "data": {
      "text/plain": [
       "<matplotlib.figure.Figure at 0x7fa598cdd6a0>"
      ]
     },
     "metadata": {},
     "output_type": "display_data"
    }
   ],
   "source": [
    "# evaluate the model\n",
    "evaluate_model(random_forest)\n",
    "model_scatterplot(random_forest)"
   ]
  },
  {
   "cell_type": "markdown",
   "metadata": {},
   "source": [
    "<b><font size=\"+2\">Support Vector Machine</font></b>"
   ]
  },
  {
   "cell_type": "markdown",
   "metadata": {},
   "source": [
    "<font size=\"+1\">NuSVR</font>"
   ]
  },
  {
   "cell_type": "code",
   "execution_count": 140,
   "metadata": {},
   "outputs": [
    {
     "data": {
      "text/plain": [
       "NuSVR(C=1.0, cache_size=200, coef0=0.0, degree=3, gamma='auto', kernel='rbf',\n",
       "   max_iter=-1, nu=0.5, shrinking=True, tol=0.001, verbose=False)"
      ]
     },
     "execution_count": 140,
     "metadata": {},
     "output_type": "execute_result"
    }
   ],
   "source": [
    "import sklearn.svm as svm\n",
    "\n",
    "# use the NuSVR model\n",
    "nusvm = svm.NuSVR()\n",
    "nusvm.fit(X_female_train, rating_female_train)"
   ]
  },
  {
   "cell_type": "code",
   "execution_count": 150,
   "metadata": {
    "scrolled": true
   },
   "outputs": [
    {
     "name": "stdout",
     "output_type": "stream",
     "text": [
      "MSE on test set: 0.894771831454\n",
      "R^2 score: 0.154820045327\n",
      "predictions statistics:\n",
      "       prediction\n",
      "count  495.000000\n",
      "mean     6.866178\n",
      "std      0.460895\n",
      "min      4.888150\n",
      "25%      6.750327\n",
      "50%      6.888150\n",
      "75%      7.112331\n",
      "max      7.888150\n"
     ]
    },
    {
     "data": {
      "image/png": "[encoded data removed]",
      "text/plain": [
       "<matplotlib.figure.Figure at 0x7fa595dedb38>"
      ]
     },
     "metadata": {},
     "output_type": "display_data"
    },
    {
     "data": {
      "text/plain": [
       "<matplotlib.figure.Figure at 0x7fa599a2f828>"
      ]
     },
     "metadata": {},
     "output_type": "display_data"
    }
   ],
   "source": [
    "# evaluate the model\n",
    "evaluate_model(nusvm)\n",
    "model_scatterplot(nusvm)"
   ]
  },
  {
   "cell_type": "markdown",
   "metadata": {},
   "source": [
    "<font size=\"+1\">SVR</font>"
   ]
  },
  {
   "cell_type": "code",
   "execution_count": 142,
   "metadata": {
    "scrolled": true
   },
   "outputs": [
    {
     "data": {
      "text/plain": [
       "SVR(C=1.0, cache_size=200, coef0=0.0, degree=3, epsilon=0.1, gamma='auto',\n",
       "  kernel='rbf', max_iter=-1, shrinking=True, tol=0.001, verbose=False)"
      ]
     },
     "execution_count": 142,
     "metadata": {},
     "output_type": "execute_result"
    }
   ],
   "source": [
    "# use the SVR model\n",
    "svm = svm.SVR()\n",
    "svm.fit(X_female_train, rating_female_train)"
   ]
  },
  {
   "cell_type": "code",
   "execution_count": 155,
   "metadata": {
    "scrolled": true
   },
   "outputs": [
    {
     "name": "stdout",
     "output_type": "stream",
     "text": [
      "MSE on test set: 0.942472866617\n",
      "R^2 score: 0.109762794617\n",
      "predictions statistics:\n",
      "       prediction\n",
      "count  495.000000\n",
      "mean     6.931668\n",
      "std      0.489781\n",
      "min      4.929921\n",
      "25%      6.839680\n",
      "50%      6.929921\n",
      "75%      7.138958\n",
      "max      7.929921\n"
     ]
    },
    {
     "data": {
      "image/png": "[encoded data removed]",
      "text/plain": [
       "<matplotlib.figure.Figure at 0x7fa5999b6d68>"
      ]
     },
     "metadata": {},
     "output_type": "display_data"
    },
    {
     "data": {
      "text/plain": [
       "<matplotlib.figure.Figure at 0x7fa595ded278>"
      ]
     },
     "metadata": {},
     "output_type": "display_data"
    }
   ],
   "source": [
    "# evaluate the model\n",
    "evaluate_model(svm)\n",
    "model_scatterplot(svm)"
   ]
  },
  {
   "cell_type": "markdown",
   "metadata": {},
   "source": [
    "<font size=\"+2\"> <b> Testing section </b> </font>"
   ]
  },
  {
   "cell_type": "code",
   "execution_count": 20,
   "metadata": {
    "collapsed": true
   },
   "outputs": [],
   "source": [
    "# import new data\n",
    "from sklearn import datasets\n",
    "\n",
    "diabetes = datasets.load_diabetes()\n",
    "X, y = diabetes.data, diabetes.target\n",
    "Xtrain, Xtest, ytrain, ytest = train_test_split(X, y)"
   ]
  },
  {
   "cell_type": "code",
   "execution_count": 31,
   "metadata": {},
   "outputs": [
    {
     "name": "stderr",
     "output_type": "stream",
     "text": [
      "/home/pingshiyu/.local/lib/python3.6/site-packages/sklearn/linear_model/coordinate_descent.py:491: ConvergenceWarning: Objective did not converge. You might want to increase the number of iterations. Fitting data with very small alpha may cause precision problems.\n",
      "  ConvergenceWarning)\n"
     ]
    },
    {
     "data": {
      "text/plain": [
       "Lasso(alpha=1.0, copy_X=True, fit_intercept=False, max_iter=1000,\n",
       "   normalize=False, positive=False, precompute=False, random_state=None,\n",
       "   selection='cyclic', tol=0.0001, warm_start=False)"
      ]
     },
     "execution_count": 31,
     "metadata": {},
     "output_type": "execute_result"
    }
   ],
   "source": [
    "lasso = models.Lasso(fit_intercept=False)\n",
    "lasso.fit(X_female_train, age_female_train)"
   ]
  },
  {
   "cell_type": "code",
   "execution_count": 32,
   "metadata": {},
   "outputs": [
    {
     "name": "stdout",
     "output_type": "stream",
     "text": [
      "MSE on test set: 215.173795897\n",
      "R^2 score: -202.247993142\n",
      "predictions statistics:\n",
      "       prediction\n",
      "count  495.000000\n",
      "mean    21.313449\n",
      "std      2.100468\n",
      "min     17.260653\n",
      "25%     19.959664\n",
      "50%     21.121862\n",
      "75%     22.181591\n",
      "max     29.283579\n",
      "10.2591732562\n"
     ]
    }
   ],
   "source": [
    "# evaluate\n",
    "evaluate_model(lasso)\n",
    "print(mse(lasso.predict(X_female_train), age_female_train))"
   ]
  },
  {
   "cell_type": "code",
   "execution_count": 34,
   "metadata": {
    "scrolled": true
   },
   "outputs": [
    {
     "name": "stdout",
     "output_type": "stream",
     "text": [
      "12.1279757168\n",
      "20.6702245658\n"
     ]
    },
    {
     "data": {
      "text/html": [
       "<div>\n",
       "<style scoped>\n",
       "    .dataframe tbody tr th:only-of-type {\n",
       "        vertical-align: middle;\n",
       "    }\n",
       "\n",
       "    .dataframe tbody tr th {\n",
       "        vertical-align: top;\n",
       "    }\n",
       "\n",
       "    .dataframe thead th {\n",
       "        text-align: right;\n",
       "    }\n",
       "</style>\n",
       "<table border=\"1\" class=\"dataframe\">\n",
       "  <thead>\n",
       "    <tr style=\"text-align: right;\">\n",
       "      <th></th>\n",
       "      <th>diff</th>\n",
       "    </tr>\n",
       "  </thead>\n",
       "  <tbody>\n",
       "    <tr>\n",
       "      <th>count</th>\n",
       "      <td>990.000000</td>\n",
       "    </tr>\n",
       "    <tr>\n",
       "      <th>mean</th>\n",
       "      <td>-0.245132</td>\n",
       "    </tr>\n",
       "    <tr>\n",
       "      <th>std</th>\n",
       "      <td>4.542133</td>\n",
       "    </tr>\n",
       "    <tr>\n",
       "      <th>min</th>\n",
       "      <td>-31.473606</td>\n",
       "    </tr>\n",
       "    <tr>\n",
       "      <th>25%</th>\n",
       "      <td>-2.594549</td>\n",
       "    </tr>\n",
       "    <tr>\n",
       "      <th>50%</th>\n",
       "      <td>-0.460244</td>\n",
       "    </tr>\n",
       "    <tr>\n",
       "      <th>75%</th>\n",
       "      <td>2.164202</td>\n",
       "    </tr>\n",
       "    <tr>\n",
       "      <th>max</th>\n",
       "      <td>24.750030</td>\n",
       "    </tr>\n",
       "  </tbody>\n",
       "</table>\n",
       "</div>"
      ],
      "text/plain": [
       "             diff\n",
       "count  990.000000\n",
       "mean    -0.245132\n",
       "std      4.542133\n",
       "min    -31.473606\n",
       "25%     -2.594549\n",
       "50%     -0.460244\n",
       "75%      2.164202\n",
       "max     24.750030"
      ]
     },
     "execution_count": 34,
     "metadata": {},
     "output_type": "execute_result"
    }
   ],
   "source": [
    "pred = lasso.predict(X_female_test)\n",
    "np.set_printoptions(suppress=True)\n",
    "\n",
    "DataFrame({'pred': pred}).describe()"
   ]
  },
  {
   "cell_type": "code",
   "execution_count": 126,
   "metadata": {},
   "outputs": [],
   "source": [
    "# pick some sample features randomly, from the interval [0, 4095]\n",
    "sample_points = np.trunc(np.random.random_sample(4000) * 4096).astype(int)\n",
    "feature_sample = X_female[:, sample_points]"
   ]
  },
  {
   "cell_type": "code",
   "execution_count": 127,
   "metadata": {},
   "outputs": [
    {
     "data": {
      "text/plain": [
       "-5.0356053700952786e+23"
      ]
     },
     "execution_count": 127,
     "metadata": {},
     "output_type": "execute_result"
    }
   ],
   "source": [
    "# train classifier on a sample of features, see how that performs\n",
    "feature_sample_train, feature_sample_test, rating_sample_train, rating_sample_test = train_test_split(\n",
    "    feature_sample, rating_female, test_size=0.2)\n",
    "\n",
    "lr = models.LinearRegression()\n",
    "lr.fit(feature_sample_train, rating_sample_train)\n",
    "\n",
    "lr.score(feature_sample_test, rating_sample_test)"
   ]
  }
 ],
 "metadata": {
  "kernelspec": {
   "display_name": "Python 3",
   "language": "python",
   "name": "python3"
  },
  "language_info": {
   "codemirror_mode": {
    "name": "ipython",
    "version": 3
   },
   "file_extension": ".py",
   "mimetype": "text/x-python",
   "name": "python",
   "nbconvert_exporter": "python",
   "pygments_lexer": "ipython3",
   "version": "3.6.3"
  }
 },
 "nbformat": 4,
 "nbformat_minor": 2
}
